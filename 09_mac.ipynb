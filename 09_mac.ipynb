{
 "cells": [
  {
   "cell_type": "code",
   "execution_count": 134,
   "id": "f0b0bade",
   "metadata": {},
   "outputs": [],
   "source": [
    "import numpy as np\n",
    "import matplotlib.pyplot as plt\n",
    "import urllib.request\n",
    "import numpy as np\n",
    "import pandas as pd\n",
    "import matplotlib.pyplot as plt\n",
    "import seaborn as sns\n",
    "import sympy as sym\n",
    "import math"
   ]
  },
  {
   "cell_type": "code",
   "execution_count": 135,
   "id": "c35cb20d",
   "metadata": {},
   "outputs": [],
   "source": [
    "x,y=sym.symbols('x y')\n",
    "f =  2*x**4*y+3*x**4-3*x**2-(2*y**3)/3+y**2"
   ]
  },
  {
   "cell_type": "code",
   "execution_count": 136,
   "id": "7cd02594",
   "metadata": {},
   "outputs": [],
   "source": [
    "poch_x = sym.diff(f,x)\n",
    "poch_y = sym.diff(f,y)\n",
    "poch_x2 = sym.diff(sym.diff(f,x),x)\n",
    "poch_y2 = sym.diff(sym.diff(f,y),y)\n",
    "poch_xy = sym.diff(sym.diff(f,y),x)"
   ]
  },
  {
   "cell_type": "code",
   "execution_count": 137,
   "id": "6f7c61fa",
   "metadata": {},
   "outputs": [
    {
     "data": {
      "text/latex": [
       "$\\displaystyle 8 x^{3} y + 12 x^{3} - 6 x$"
      ],
      "text/plain": [
       "8*x**3*y + 12*x**3 - 6*x"
      ]
     },
     "execution_count": 137,
     "metadata": {},
     "output_type": "execute_result"
    }
   ],
   "source": [
    "poch_x"
   ]
  },
  {
   "cell_type": "code",
   "execution_count": 138,
   "id": "7864c63f",
   "metadata": {},
   "outputs": [
    {
     "data": {
      "text/latex": [
       "$\\displaystyle 2 x^{4} - 2 y^{2} + 2 y$"
      ],
      "text/plain": [
       "2*x**4 - 2*y**2 + 2*y"
      ]
     },
     "execution_count": 138,
     "metadata": {},
     "output_type": "execute_result"
    }
   ],
   "source": [
    "poch_y"
   ]
  },
  {
   "cell_type": "code",
   "execution_count": 139,
   "id": "33ce75cc",
   "metadata": {},
   "outputs": [
    {
     "data": {
      "text/latex": [
       "$\\displaystyle 24 x^{2} y + 36 x^{2} - 6$"
      ],
      "text/plain": [
       "24*x**2*y + 36*x**2 - 6"
      ]
     },
     "execution_count": 139,
     "metadata": {},
     "output_type": "execute_result"
    }
   ],
   "source": [
    "poch_x2"
   ]
  },
  {
   "cell_type": "code",
   "execution_count": 140,
   "id": "790bdf3d",
   "metadata": {},
   "outputs": [
    {
     "data": {
      "text/latex": [
       "$\\displaystyle 2 - 4 y$"
      ],
      "text/plain": [
       "2 - 4*y"
      ]
     },
     "execution_count": 140,
     "metadata": {},
     "output_type": "execute_result"
    }
   ],
   "source": [
    "poch_y2"
   ]
  },
  {
   "cell_type": "code",
   "execution_count": 141,
   "id": "c5f11dba",
   "metadata": {},
   "outputs": [
    {
     "data": {
      "text/latex": [
       "$\\displaystyle 8 x^{3}$"
      ],
      "text/plain": [
       "8*x**3"
      ]
     },
     "execution_count": 141,
     "metadata": {},
     "output_type": "execute_result"
    }
   ],
   "source": [
    "poch_xy"
   ]
  },
  {
   "cell_type": "code",
   "execution_count": 142,
   "id": "9a4ecc8c",
   "metadata": {},
   "outputs": [
    {
     "data": {
      "text/latex": [
       "$\\displaystyle \\left[\\begin{matrix}24 x^{2} y + 36 x^{2} - 6 & 8 x^{3}\\\\8 x^{3} & 2 - 4 y\\end{matrix}\\right]$"
      ],
      "text/plain": [
       "Matrix([\n",
       "[24*x**2*y + 36*x**2 - 6,  8*x**3],\n",
       "[                 8*x**3, 2 - 4*y]])"
      ]
     },
     "execution_count": 142,
     "metadata": {},
     "output_type": "execute_result"
    }
   ],
   "source": [
    "#ogólny hesjan do którego trzeba wstawiać punkty podejrzane\n",
    "Hesjan=sym.hessian(f,[x,y])\n",
    "Hesjan"
   ]
  },
  {
   "cell_type": "code",
   "execution_count": 143,
   "id": "211a7405",
   "metadata": {},
   "outputs": [
    {
     "data": {
      "text/plain": [
       "[(0, 0), (0, 1)]"
      ]
     },
     "execution_count": 143,
     "metadata": {},
     "output_type": "execute_result"
    }
   ],
   "source": [
    "import sympy.solvers\n",
    "#zwraca liste punktów podejrzanych o bycie ekstremum\n",
    "p_podejrzane = sympy.solvers.solve([poch_x,poch_y],[x,y])\n",
    "p_podejrzane"
   ]
  },
  {
   "cell_type": "code",
   "execution_count": 144,
   "id": "aa042006",
   "metadata": {},
   "outputs": [
    {
     "data": {
      "text/plain": [
       "[Matrix([\n",
       " [-6, 0],\n",
       " [ 0, 2]]),\n",
       " Matrix([\n",
       " [-6,  0],\n",
       " [ 0, -2]])]"
      ]
     },
     "execution_count": 144,
     "metadata": {},
     "output_type": "execute_result"
    }
   ],
   "source": [
    "#do macierzy hesjana podstawiamy punkty podejrzane\n",
    "hesjany = []\n",
    "for i in range(0,len(p_podejrzane)):\n",
    "    hesjany.append(sym.hessian(f, [x, y]).subs([(x,[x for x,y in p_podejrzane][i]), (y,[y for x,y in p_podejrzane][i])]))\n",
    "hesjany"
   ]
  },
  {
   "cell_type": "code",
   "execution_count": 145,
   "id": "dcd180a8",
   "metadata": {},
   "outputs": [
    {
     "data": {
      "text/plain": [
       "[-12, 12]"
      ]
     },
     "execution_count": 145,
     "metadata": {},
     "output_type": "execute_result"
    }
   ],
   "source": [
    "lista_wyz = []\n",
    "for i in range(0,len(p_podejrzane)):\n",
    "    lista_wyz.append(hesjany[i].det())\n",
    "lista_wyz"
   ]
  },
  {
   "cell_type": "code",
   "execution_count": 146,
   "id": "04b281f0",
   "metadata": {},
   "outputs": [
    {
     "data": {
      "text/plain": [
       "[(0, 1)]"
      ]
     },
     "execution_count": 146,
     "metadata": {},
     "output_type": "execute_result"
    }
   ],
   "source": [
    "lista_eks=[]\n",
    "for i in range(0,len(p_podejrzane)):\n",
    "    if lista_wyz[i] > 0:\n",
    "        lista_eks.append(p_podejrzane[i]) \n",
    "lista_eks"
   ]
  },
  {
   "cell_type": "code",
   "execution_count": 147,
   "id": "28b03108",
   "metadata": {},
   "outputs": [],
   "source": [
    "#Następnie należy ustalić czy nasze ekstrema to minima czy maxima\n",
    "# 1.Liczę drugą pochodną po x\n",
    "poch_x2 = sym.diff(sym.diff(f,x),x)\n",
    "# 2.Podstawiam ekstrema\n",
    "pochx2_p = []\n",
    "for i in range(0,len(lista_eks)):\n",
    "    pochx2_p.append(poch_x2.subs([(x,[x for x,y in lista_eks][i]), (y,[y for x,y in lista_eks][i])]))\n",
    "#3.Jeżeli po podstawieniu ekstremów do pochx2_p wartość < 0 to mamy maxiumum a jak > 0 to minimum   \n",
    "#maxima\n",
    "maxima = []\n",
    "for i in range(0,len(pochx2_p)):\n",
    "    if pochx2_p[i] < 0:\n",
    "        maxima.append(lista_eks[i])\n",
    "#minima        \n",
    "minima = []\n",
    "for i in range(0,len(pochx2_p)):\n",
    "    if pochx2_p[i] > 0:\n",
    "        minima.append(lista_eks[i])\n"
   ]
  },
  {
   "cell_type": "code",
   "execution_count": 148,
   "id": "5dcab8a7",
   "metadata": {},
   "outputs": [
    {
     "data": {
      "text/plain": [
       "[-6]"
      ]
     },
     "execution_count": 148,
     "metadata": {},
     "output_type": "execute_result"
    }
   ],
   "source": [
    "pochx2_p"
   ]
  },
  {
   "cell_type": "code",
   "execution_count": 149,
   "id": "1bc77813",
   "metadata": {},
   "outputs": [
    {
     "data": {
      "text/plain": [
       "[(0, 1)]"
      ]
     },
     "execution_count": 149,
     "metadata": {},
     "output_type": "execute_result"
    }
   ],
   "source": [
    "maxima"
   ]
  },
  {
   "cell_type": "code",
   "execution_count": 150,
   "id": "5709cd2a",
   "metadata": {},
   "outputs": [
    {
     "data": {
      "text/plain": [
       "[]"
      ]
     },
     "execution_count": 150,
     "metadata": {},
     "output_type": "execute_result"
    }
   ],
   "source": [
    "minima"
   ]
  },
  {
   "cell_type": "code",
   "execution_count": 151,
   "id": "609b0075",
   "metadata": {},
   "outputs": [
    {
     "data": {
      "text/plain": [
       "[(0, 0)]"
      ]
     },
     "execution_count": 151,
     "metadata": {},
     "output_type": "execute_result"
    }
   ],
   "source": [
    "lista_p_kryt=[]\n",
    "for i in range(0,len(p_podejrzane)):\n",
    "    if lista_wyz[i]<=0:\n",
    "        lista_p_kryt.append(p_podejrzane[i])\n",
    "lista_p_kryt"
   ]
  },
  {
   "cell_type": "code",
   "execution_count": 152,
   "id": "58c3b7d8",
   "metadata": {},
   "outputs": [
    {
     "data": {
      "image/png": "[encoded data removed]",
      "text/plain": [
       "<Figure size 720x864 with 2 Axes>"
      ]
     },
     "metadata": {
      "needs_background": "light"
     },
     "output_type": "display_data"
    }
   ],
   "source": [
    "def fun(x,y):\n",
    "    return  2*x**4*y+3*x**4-3*x**2-(2*y**3)/3+y**2\n",
    "\n",
    "ax=plt.subplots(figsize=(10,12))\n",
    "\n",
    "x=np.arange(-1.5,1.5,0.1)\n",
    "y=np.arange(-1.5,2.5,0.01)\n",
    "\n",
    "X,Y = np.meshgrid(x,y)\n",
    "Z = fun(X,Y)\n",
    "\n",
    "plt.contourf(X,Y,Z,20,cmap='cool')\n",
    "plt.colorbar()\n",
    "\n",
    "#ustalanie miejsca dla punktów i adnotacja\n",
    "plt.scatter([x for x,y in p_podejrzane], [y for x,y in p_podejrzane], color = \"black\", marker = \".\")\n",
    "#punkty krytyczne\n",
    "for i in range(0,len(lista_p_kryt)):\n",
    "    plt.annotate('krytyczny',xy=([x for x,y in lista_p_kryt][i]-0.1, [y for x,y in lista_p_kryt][i]+0.05))\n",
    "#minima\n",
    "for i in range(0,len(minima)):\n",
    "    plt.annotate('minimum', xy=([x for x,y in minima][i]-0.1, [y for x,y in minima][i]+0.05))\n",
    "#maxima\n",
    "for i in range(0,len(maxima)):\n",
    "    plt.annotate('maksimum',xy=([x for x,y in maxima][i]-0.1, [y for x,y in maxima][i]+0.05)) \n",
    "    \n",
    "plt.title(str(f),fontsize = 13)    \n",
    "plt.savefig('09_mac_273344.jpg')\n",
    "plt.show()"
   ]
  },
  {
   "cell_type": "code",
   "execution_count": 153,
   "id": "0bfed1ca",
   "metadata": {},
   "outputs": [],
   "source": [
    "#Pana F: 2*x**2*y+3*x**4-2*x**2-(2*y**3)/3+y**2\n",
    "#Moja F: 2*x**4*y+3*x**4-3*x**2-(2*y**3)/3+y**2"
   ]
  },
  {
   "cell_type": "code",
   "execution_count": null,
   "id": "f9d628a8",
   "metadata": {},
   "outputs": [],
   "source": []
  }
 ],
 "metadata": {
  "kernelspec": {
   "display_name": "Python 3",
   "language": "python",
   "name": "python3"
  },
  "language_info": {
   "codemirror_mode": {
    "name": "ipython",
    "version": 3
   },
   "file_extension": ".py",
   "mimetype": "text/x-python",
   "name": "python",
   "nbconvert_exporter": "python",
   "pygments_lexer": "ipython3",
   "version": "3.8.8"
  }
 },
 "nbformat": 4,
 "nbformat_minor": 5
}
