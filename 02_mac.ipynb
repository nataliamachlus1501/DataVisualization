{
 "cells": [
  {
   "cell_type": "code",
   "execution_count": 15,
   "id": "e6eb0e71",
   "metadata": {},
   "outputs": [],
   "source": [
    "import numpy as np\n",
    "import pandas as pd\n",
    "import matplotlib.pyplot as plt\n",
    "import seaborn as sns\n",
    "import sympy as sym\n",
    "from sympy import *"
   ]
  },
  {
   "cell_type": "code",
   "execution_count": 16,
   "id": "644849de",
   "metadata": {},
   "outputs": [
    {
     "data": {
      "text/plain": [
       "(1.8229131683412982, 3.0504342241095967, 5.474090792451566, 7.1363550063130425)"
      ]
     },
     "execution_count": 16,
     "metadata": {},
     "output_type": "execute_result"
    }
   ],
   "source": [
    "#Losowe pierwiastki\n",
    "import random\n",
    "a = random.uniform(0,2)\n",
    "b = random.uniform(2,4)\n",
    "c = random.uniform(4,6)\n",
    "d = random.uniform(6,8)\n",
    "a,b,c,d"
   ]
  },
  {
   "cell_type": "code",
   "execution_count": 17,
   "id": "2b48793d",
   "metadata": {},
   "outputs": [],
   "source": [
    "#ekstrema\n",
    "import sympy \n",
    "from sympy import *\n",
    "x = sympy.Symbol(\"x\")\n",
    "N= 10000\n",
    "x = np.linspace(0,8,N+1)\n",
    "y = (x-a)*(x-b)*(x-c)*(x-d)\n",
    "dydx=np.gradient(y,x)\n",
    "eksx = x[1:][dydx[1:]*dydx[:-1]<0]\n",
    "eksy = y[1:][dydx[1:]*dydx[:-1]<0]"
   ]
  },
  {
   "cell_type": "code",
   "execution_count": 18,
   "id": "ea361383",
   "metadata": {},
   "outputs": [
    {
     "data": {
      "text/plain": [
       "array([2.34  , 4.3   , 6.4736])"
      ]
     },
     "execution_count": 18,
     "metadata": {},
     "output_type": "execute_result"
    }
   ],
   "source": [
    "eksx"
   ]
  },
  {
   "cell_type": "code",
   "execution_count": 19,
   "id": "14169210",
   "metadata": {},
   "outputs": [
    {
     "data": {
      "text/plain": [
       "array([ -5.52217603,  10.30772022, -10.54592901])"
      ]
     },
     "execution_count": 19,
     "metadata": {},
     "output_type": "execute_result"
    }
   ],
   "source": [
    "eksy"
   ]
  },
  {
   "cell_type": "code",
   "execution_count": 20,
   "id": "2084d7e4",
   "metadata": {},
   "outputs": [],
   "source": [
    "#pomocnicza funkcja\n",
    "def f(x):\n",
    "    return ((x-a)*(x-b)*(x-c)*(x-d))"
   ]
  },
  {
   "cell_type": "code",
   "execution_count": 21,
   "id": "a363ce83",
   "metadata": {},
   "outputs": [
    {
     "data": {
      "image/png": "[encoded data removed]",
      "text/plain": [
       "<Figure size 720x360 with 1 Axes>"
      ]
     },
     "metadata": {
      "needs_background": "light"
     },
     "output_type": "display_data"
    }
   ],
   "source": [
    "fig, ax = plt.subplots(figsize=(10,5))\n",
    "x=np.linspace(0,8,N+1)\n",
    "x1 = np.linspace(0, eksx[0], N+1) \n",
    "x2 = np.linspace(eksx[0],eksx[1], N+1) \n",
    "x3 = np.linspace(eksx[1],eksx[2], N+1)\n",
    "x4 = np.linspace(eksx[2],8, N+1) \n",
    "\n",
    "#kolory\n",
    "ax.set_xlim(0,8)\n",
    "ax.plot(x,(x-a)*(x-b)*(x-c)*(x-d), label =r'$y = (x-a)*(x-b)*(x-c)*(x-d)$')\n",
    "ax.plot(x1, f(x1),color = \"red\")\n",
    "ax.plot(x2, f(x2), color = \"blue\")\n",
    "ax.plot(x3, f(x3), color = \"red\")\n",
    "ax.plot(x4, f(x4), color = \"blue\")\n",
    "\n",
    "ax.legend(loc=2)\n",
    "ax.set_xlabel(r'$x$', fontsize=18)\n",
    "ax.set_ylabel(r'$y$', fontsize=18)\n",
    "ax.spines['bottom'].set_position(('data',0))\n",
    "ax.spines['right'].set_color('none')\n",
    "ax.spines['top'].set_color('none')\n",
    "ax.scatter(eksx, f(eksx), color = \"black\", marker = \"o\")\n",
    "#różnice\n",
    "roz1 = round(eksy[1]-eksy[0],4)\n",
    "roz2 = round(eksy[2]-eksy[1],4)\n",
    "#lokalizacja i wygląd strzałki\n",
    "st1 = (eksx[1]+eksx[0])/2\n",
    "st2 = (eksx[1] + eksx[2])/2\n",
    "ax.annotate(roz1,xy = (st1,f(st1)), xytext=(st1+0.5,f(st1)+50),size=10, arrowprops=dict(arrowstyle='-', facecolor = 'gray'),\n",
    "            horizontalalignment = 'left', verticalalignment = 'top')\n",
    "ax.annotate(roz2,xy = (st2,f(st2)), xytext=(st2-0.5,f(st2)-50),size=10, arrowprops=dict(arrowstyle='-', facecolor = 'gray'),\n",
    "            horizontalalignment = 'left', verticalalignment = 'top')\n",
    "#tytuł\n",
    "a=round(a,4)\n",
    "b=round(b,4)\n",
    "c=round(c,4)\n",
    "d=round(d,4)\n",
    "ax.set_title('Losowe pierwiastki: {'+str(a)+ ','+str(b)+','+str(c)+','+str(d)+'}')\n",
    "plt.savefig('02_mac_273344')\n",
    "plt.show()"
   ]
  },
  {
   "cell_type": "code",
   "execution_count": null,
   "id": "b6da144c",
   "metadata": {},
   "outputs": [],
   "source": []
  }
 ],
 "metadata": {
  "kernelspec": {
   "display_name": "Python 3",
   "language": "python",
   "name": "python3"
  },
  "language_info": {
   "codemirror_mode": {
    "name": "ipython",
    "version": 3
   },
   "file_extension": ".py",
   "mimetype": "text/x-python",
   "name": "python",
   "nbconvert_exporter": "python",
   "pygments_lexer": "ipython3",
   "version": "3.8.8"
  }
 },
 "nbformat": 4,
 "nbformat_minor": 5
}
