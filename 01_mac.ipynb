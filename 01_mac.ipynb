{
 "cells": [
  {
   "cell_type": "code",
   "execution_count": 1,
   "id": "c83d7b1f",
   "metadata": {},
   "outputs": [],
   "source": [
    "import numpy as np\n",
    "import pandas as pd\n",
    "import matplotlib.pyplot as plt\n",
    "import seaborn as sns"
   ]
  },
  {
   "cell_type": "code",
   "execution_count": 2,
   "id": "f0475d4e",
   "metadata": {},
   "outputs": [],
   "source": [
    "import sympy \n",
    "import numpy as np\n",
    "from sympy import *"
   ]
  },
  {
   "cell_type": "code",
   "execution_count": 3,
   "id": "35c1dba3",
   "metadata": {},
   "outputs": [
    {
     "data": {
      "text/latex": [
       "$\\displaystyle 1.0 x^{2} + 2 x - 3$"
      ],
      "text/plain": [
       "1.0*x**2 + 2*x - 3"
      ]
     },
     "execution_count": 3,
     "metadata": {},
     "output_type": "execute_result"
    }
   ],
   "source": [
    "import sympy \n",
    "from sympy import *\n",
    "x=np.arange(-10.0,10.0,1.0)\n",
    "x=sympy.Symbol(\"x\")\n",
    "y=(1/3)*x**3+x**2-3*x+1\n",
    "y_poch = y.diff()\n",
    "x1 = sympy.N(sympy.solve(y_poch)[0])\n",
    "x2 = sympy.N(sympy.solve(y_poch)[1])\n",
    "y1 = y.subs(x, x1)\n",
    "y2 = y.subs(x, x2)\n",
    "\n",
    "y_poch = y.diff()\n",
    "y_poch"
   ]
  },
  {
   "cell_type": "code",
   "execution_count": 4,
   "id": "3d7cf3ac",
   "metadata": {},
   "outputs": [
    {
     "data": {
      "text/plain": [
       "[-3.00000000000000, 1.00000000000000]"
      ]
     },
     "execution_count": 4,
     "metadata": {},
     "output_type": "execute_result"
    }
   ],
   "source": [
    "#ekstrema\n",
    "sympy.solve(y_poch)"
   ]
  },
  {
   "cell_type": "code",
   "execution_count": 5,
   "id": "574fbd62",
   "metadata": {},
   "outputs": [
    {
     "data": {
      "image/png": "[encoded data removed]",
      "text/plain": [
       "<Figure size 432x288 with 1 Axes>"
      ]
     },
     "metadata": {
      "needs_background": "light"
     },
     "output_type": "display_data"
    }
   ],
   "source": [
    "fig = plt.figure()\n",
    "ax = fig.add_subplot()\n",
    "x=np.arange(-10.0,10.0,0.3)\n",
    "y=(1/3)*x**3+x**2-3*x+1\n",
    "ax.scatter([x1,x2], [y1, y2], color='black', marker='o')\n",
    "plt.plot(x,y, color =\"green\",label='(1/3)*x^3 + x^2 - 3*x + 1')\n",
    "plt.ylim([-5,20])\n",
    "plt.grid(False)\n",
    "plt.legend()\n",
    "plt.axhline(0, color='black')\n",
    "ax.set_xticks([-3, 1])\n",
    "plt.title('wykres funkcji (1/3)*x^3 + x^2 -3*x + 1')\n",
    "plt.savefig('01_mac_273344.pdf')\n",
    "plt.show()"
   ]
  },
  {
   "cell_type": "code",
   "execution_count": null,
   "id": "ab745329",
   "metadata": {},
   "outputs": [],
   "source": []
  },
  {
   "cell_type": "code",
   "execution_count": null,
   "id": "14707b3e",
   "metadata": {},
   "outputs": [],
   "source": []
  }
 ],
 "metadata": {
  "kernelspec": {
   "display_name": "Python 3",
   "language": "python",
   "name": "python3"
  },
  "language_info": {
   "codemirror_mode": {
    "name": "ipython",
    "version": 3
   },
   "file_extension": ".py",
   "mimetype": "text/x-python",
   "name": "python",
   "nbconvert_exporter": "python",
   "pygments_lexer": "ipython3",
   "version": "3.8.8"
  }
 },
 "nbformat": 4,
 "nbformat_minor": 5
}
